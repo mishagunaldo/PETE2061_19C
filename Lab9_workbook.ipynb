{
 "cells": [
  {
   "cell_type": "markdown",
   "metadata": {
    "colab_type": "text",
    "id": "u1YDPNtbdHDj"
   },
   "source": [
    "\n",
    "#  Linear Regression\n",
    "\n",
    "## PETE 2061 Lab 9 Workbook \n",
    "\n",
    "## THIS IS DUE BY 11:59 PM on October 31, 2019"
   ]
  },
  {
   "cell_type": "markdown",
   "metadata": {},
   "source": [
    "## Decline Curve Analysis\n",
    "In the prediction of production data, the exponential decline curve analysis is very effective. The equation takes the following form:  \n",
    "$$q=q_ie^{-D_i t}$$  \n",
    "  \n",
    "Where $q$ is the current production rate (BBL/day), $q_i$ is the initial production rate (BBL/day), $d$ is the decline rate, and $t$ is the time (days)."
   ]
  },
  {
   "cell_type": "markdown",
   "metadata": {},
   "source": [
    "1. Take the natural logarithm of both sides of this equation and type the straight line equation you obtain into the cell below.\n",
    "2. Also type in the parameter that represents the dependent (or response) variable, the independent (or exploratory) variable, the slope and intercept in this straight-line equation."
   ]
  },
  {
   "cell_type": "markdown",
   "metadata": {},
   "source": [
    " Type in answers to 1 and 2 here."
   ]
  },
  {
   "cell_type": "code",
   "execution_count": 23,
   "metadata": {},
   "outputs": [
    {
     "name": "stdout",
     "output_type": "stream",
     "text": [
      "ln(q) = np.log(q_i)+(-D_i/t)\n",
      "The response variable is ln(q),The independent variable is is t(time), the slope is -D_i, and the intercept is log(q_i)\n"
     ]
    }
   ],
   "source": [
    "print(f\"ln(q) = np.log(q_i)+(-D_i/t)\")\n",
    "print(f\"The dependent variable is ln(q),The independent variable is is t(time), the slope is -D_i, and the intercept is log(q_i)\")"
   ]
  },
  {
   "cell_type": "markdown",
   "metadata": {},
   "source": [
    "3. Import rate and time data stored in wellA.csv and display the dataframe."
   ]
  },
  {
   "cell_type": "code",
   "execution_count": 24,
   "metadata": {},
   "outputs": [],
   "source": [
    "import numpy as np\n",
    "import scipy.stats as ss \n",
    "import pandas as pd \n",
    "import matplotlib.pyplot as plt \n",
    "%matplotlib inline"
   ]
  },
  {
   "cell_type": "code",
   "execution_count": 25,
   "metadata": {},
   "outputs": [
    {
     "data": {
      "text/html": [
       "<div>\n",
       "<style scoped>\n",
       "    .dataframe tbody tr th:only-of-type {\n",
       "        vertical-align: middle;\n",
       "    }\n",
       "\n",
       "    .dataframe tbody tr th {\n",
       "        vertical-align: top;\n",
       "    }\n",
       "\n",
       "    .dataframe thead th {\n",
       "        text-align: right;\n",
       "    }\n",
       "</style>\n",
       "<table border=\"1\" class=\"dataframe\">\n",
       "  <thead>\n",
       "    <tr style=\"text-align: right;\">\n",
       "      <th></th>\n",
       "      <th>time (days)</th>\n",
       "      <th>rate (bopd)</th>\n",
       "    </tr>\n",
       "  </thead>\n",
       "  <tbody>\n",
       "    <tr>\n",
       "      <th>0</th>\n",
       "      <td>0</td>\n",
       "      <td>2000.0</td>\n",
       "    </tr>\n",
       "    <tr>\n",
       "      <th>1</th>\n",
       "      <td>100</td>\n",
       "      <td>1743.2</td>\n",
       "    </tr>\n",
       "    <tr>\n",
       "      <th>2</th>\n",
       "      <td>200</td>\n",
       "      <td>1690.6</td>\n",
       "    </tr>\n",
       "    <tr>\n",
       "      <th>3</th>\n",
       "      <td>300</td>\n",
       "      <td>1482.4</td>\n",
       "    </tr>\n",
       "    <tr>\n",
       "      <th>4</th>\n",
       "      <td>400</td>\n",
       "      <td>1404.6</td>\n",
       "    </tr>\n",
       "    <tr>\n",
       "      <th>5</th>\n",
       "      <td>500</td>\n",
       "      <td>1164.0</td>\n",
       "    </tr>\n",
       "    <tr>\n",
       "      <th>6</th>\n",
       "      <td>600</td>\n",
       "      <td>1029.7</td>\n",
       "    </tr>\n",
       "    <tr>\n",
       "      <th>7</th>\n",
       "      <td>700</td>\n",
       "      <td>949.0</td>\n",
       "    </tr>\n",
       "    <tr>\n",
       "      <th>8</th>\n",
       "      <td>800</td>\n",
       "      <td>829.0</td>\n",
       "    </tr>\n",
       "    <tr>\n",
       "      <th>9</th>\n",
       "      <td>900</td>\n",
       "      <td>777.6</td>\n",
       "    </tr>\n",
       "    <tr>\n",
       "      <th>10</th>\n",
       "      <td>1000</td>\n",
       "      <td>739.8</td>\n",
       "    </tr>\n",
       "    <tr>\n",
       "      <th>11</th>\n",
       "      <td>1100</td>\n",
       "      <td>697.6</td>\n",
       "    </tr>\n",
       "    <tr>\n",
       "      <th>12</th>\n",
       "      <td>1200</td>\n",
       "      <td>605.3</td>\n",
       "    </tr>\n",
       "    <tr>\n",
       "      <th>13</th>\n",
       "      <td>1300</td>\n",
       "      <td>456.9</td>\n",
       "    </tr>\n",
       "    <tr>\n",
       "      <th>14</th>\n",
       "      <td>1400</td>\n",
       "      <td>401.7</td>\n",
       "    </tr>\n",
       "    <tr>\n",
       "      <th>15</th>\n",
       "      <td>1500</td>\n",
       "      <td>453.3</td>\n",
       "    </tr>\n",
       "    <tr>\n",
       "      <th>16</th>\n",
       "      <td>1600</td>\n",
       "      <td>483.7</td>\n",
       "    </tr>\n",
       "    <tr>\n",
       "      <th>17</th>\n",
       "      <td>1700</td>\n",
       "      <td>270.6</td>\n",
       "    </tr>\n",
       "    <tr>\n",
       "      <th>18</th>\n",
       "      <td>1800</td>\n",
       "      <td>295.9</td>\n",
       "    </tr>\n",
       "    <tr>\n",
       "      <th>19</th>\n",
       "      <td>1900</td>\n",
       "      <td>348.3</td>\n",
       "    </tr>\n",
       "    <tr>\n",
       "      <th>20</th>\n",
       "      <td>2000</td>\n",
       "      <td>303.1</td>\n",
       "    </tr>\n",
       "    <tr>\n",
       "      <th>21</th>\n",
       "      <td>2100</td>\n",
       "      <td>299.5</td>\n",
       "    </tr>\n",
       "  </tbody>\n",
       "</table>\n",
       "</div>"
      ],
      "text/plain": [
       "    time (days)  rate (bopd)\n",
       "0             0       2000.0\n",
       "1           100       1743.2\n",
       "2           200       1690.6\n",
       "3           300       1482.4\n",
       "4           400       1404.6\n",
       "5           500       1164.0\n",
       "6           600       1029.7\n",
       "7           700        949.0\n",
       "8           800        829.0\n",
       "9           900        777.6\n",
       "10         1000        739.8\n",
       "11         1100        697.6\n",
       "12         1200        605.3\n",
       "13         1300        456.9\n",
       "14         1400        401.7\n",
       "15         1500        453.3\n",
       "16         1600        483.7\n",
       "17         1700        270.6\n",
       "18         1800        295.9\n",
       "19         1900        348.3\n",
       "20         2000        303.1\n",
       "21         2100        299.5"
      ]
     },
     "execution_count": 25,
     "metadata": {},
     "output_type": "execute_result"
    }
   ],
   "source": [
    "df = pd.read_csv('wellA.csv')\n",
    "df"
   ]
  },
  {
   "cell_type": "markdown",
   "metadata": {},
   "source": [
    "4. Make a scatter plot of the rate versus time"
   ]
  },
  {
   "cell_type": "code",
   "execution_count": 28,
   "metadata": {},
   "outputs": [
    {
     "data": {
      "image/png": "[encoded data removed]",
      "text/plain": [
       "<Figure size 432x288 with 1 Axes>"
      ]
     },
     "metadata": {
      "needs_background": "light"
     },
     "output_type": "display_data"
    }
   ],
   "source": [
    "x = df[\"time (days)\"]\n",
    "y = df[\"rate (bopd)\"]\n",
    "plt.scatter(x,y)\n",
    "plt.show()"
   ]
  },
  {
   "cell_type": "markdown",
   "metadata": {},
   "source": [
    "5. Using the idea from problem 1, transform this data such that it plots roughly as data points following a straight line. <br> \n",
    "Hint: This will require plotting the natural logarithm instead of the actual value on the x or y axis."
   ]
  },
  {
   "cell_type": "code",
   "execution_count": 30,
   "metadata": {},
   "outputs": [
    {
     "data": {
      "text/html": [
       "<div>\n",
       "<style scoped>\n",
       "    .dataframe tbody tr th:only-of-type {\n",
       "        vertical-align: middle;\n",
       "    }\n",
       "\n",
       "    .dataframe tbody tr th {\n",
       "        vertical-align: top;\n",
       "    }\n",
       "\n",
       "    .dataframe thead th {\n",
       "        text-align: right;\n",
       "    }\n",
       "</style>\n",
       "<table border=\"1\" class=\"dataframe\">\n",
       "  <thead>\n",
       "    <tr style=\"text-align: right;\">\n",
       "      <th></th>\n",
       "      <th>time (days)</th>\n",
       "      <th>rate (bopd)</th>\n",
       "      <th>lnrate</th>\n",
       "    </tr>\n",
       "  </thead>\n",
       "  <tbody>\n",
       "    <tr>\n",
       "      <th>0</th>\n",
       "      <td>0</td>\n",
       "      <td>2000.0</td>\n",
       "      <td>7.600902</td>\n",
       "    </tr>\n",
       "    <tr>\n",
       "      <th>1</th>\n",
       "      <td>100</td>\n",
       "      <td>1743.2</td>\n",
       "      <td>7.463478</td>\n",
       "    </tr>\n",
       "    <tr>\n",
       "      <th>2</th>\n",
       "      <td>200</td>\n",
       "      <td>1690.6</td>\n",
       "      <td>7.432839</td>\n",
       "    </tr>\n",
       "    <tr>\n",
       "      <th>3</th>\n",
       "      <td>300</td>\n",
       "      <td>1482.4</td>\n",
       "      <td>7.301418</td>\n",
       "    </tr>\n",
       "    <tr>\n",
       "      <th>4</th>\n",
       "      <td>400</td>\n",
       "      <td>1404.6</td>\n",
       "      <td>7.247508</td>\n",
       "    </tr>\n",
       "    <tr>\n",
       "      <th>5</th>\n",
       "      <td>500</td>\n",
       "      <td>1164.0</td>\n",
       "      <td>7.059618</td>\n",
       "    </tr>\n",
       "    <tr>\n",
       "      <th>6</th>\n",
       "      <td>600</td>\n",
       "      <td>1029.7</td>\n",
       "      <td>6.937023</td>\n",
       "    </tr>\n",
       "    <tr>\n",
       "      <th>7</th>\n",
       "      <td>700</td>\n",
       "      <td>949.0</td>\n",
       "      <td>6.855409</td>\n",
       "    </tr>\n",
       "    <tr>\n",
       "      <th>8</th>\n",
       "      <td>800</td>\n",
       "      <td>829.0</td>\n",
       "      <td>6.720220</td>\n",
       "    </tr>\n",
       "    <tr>\n",
       "      <th>9</th>\n",
       "      <td>900</td>\n",
       "      <td>777.6</td>\n",
       "      <td>6.656212</td>\n",
       "    </tr>\n",
       "    <tr>\n",
       "      <th>10</th>\n",
       "      <td>1000</td>\n",
       "      <td>739.8</td>\n",
       "      <td>6.606380</td>\n",
       "    </tr>\n",
       "    <tr>\n",
       "      <th>11</th>\n",
       "      <td>1100</td>\n",
       "      <td>697.6</td>\n",
       "      <td>6.547646</td>\n",
       "    </tr>\n",
       "    <tr>\n",
       "      <th>12</th>\n",
       "      <td>1200</td>\n",
       "      <td>605.3</td>\n",
       "      <td>6.405724</td>\n",
       "    </tr>\n",
       "    <tr>\n",
       "      <th>13</th>\n",
       "      <td>1300</td>\n",
       "      <td>456.9</td>\n",
       "      <td>6.124465</td>\n",
       "    </tr>\n",
       "    <tr>\n",
       "      <th>14</th>\n",
       "      <td>1400</td>\n",
       "      <td>401.7</td>\n",
       "      <td>5.995706</td>\n",
       "    </tr>\n",
       "    <tr>\n",
       "      <th>15</th>\n",
       "      <td>1500</td>\n",
       "      <td>453.3</td>\n",
       "      <td>6.116554</td>\n",
       "    </tr>\n",
       "    <tr>\n",
       "      <th>16</th>\n",
       "      <td>1600</td>\n",
       "      <td>483.7</td>\n",
       "      <td>6.181465</td>\n",
       "    </tr>\n",
       "    <tr>\n",
       "      <th>17</th>\n",
       "      <td>1700</td>\n",
       "      <td>270.6</td>\n",
       "      <td>5.600642</td>\n",
       "    </tr>\n",
       "    <tr>\n",
       "      <th>18</th>\n",
       "      <td>1800</td>\n",
       "      <td>295.9</td>\n",
       "      <td>5.690022</td>\n",
       "    </tr>\n",
       "    <tr>\n",
       "      <th>19</th>\n",
       "      <td>1900</td>\n",
       "      <td>348.3</td>\n",
       "      <td>5.853064</td>\n",
       "    </tr>\n",
       "    <tr>\n",
       "      <th>20</th>\n",
       "      <td>2000</td>\n",
       "      <td>303.1</td>\n",
       "      <td>5.714063</td>\n",
       "    </tr>\n",
       "    <tr>\n",
       "      <th>21</th>\n",
       "      <td>2100</td>\n",
       "      <td>299.5</td>\n",
       "      <td>5.702114</td>\n",
       "    </tr>\n",
       "  </tbody>\n",
       "</table>\n",
       "</div>"
      ],
      "text/plain": [
       "    time (days)  rate (bopd)    lnrate\n",
       "0             0       2000.0  7.600902\n",
       "1           100       1743.2  7.463478\n",
       "2           200       1690.6  7.432839\n",
       "3           300       1482.4  7.301418\n",
       "4           400       1404.6  7.247508\n",
       "5           500       1164.0  7.059618\n",
       "6           600       1029.7  6.937023\n",
       "7           700        949.0  6.855409\n",
       "8           800        829.0  6.720220\n",
       "9           900        777.6  6.656212\n",
       "10         1000        739.8  6.606380\n",
       "11         1100        697.6  6.547646\n",
       "12         1200        605.3  6.405724\n",
       "13         1300        456.9  6.124465\n",
       "14         1400        401.7  5.995706\n",
       "15         1500        453.3  6.116554\n",
       "16         1600        483.7  6.181465\n",
       "17         1700        270.6  5.600642\n",
       "18         1800        295.9  5.690022\n",
       "19         1900        348.3  5.853064\n",
       "20         2000        303.1  5.714063\n",
       "21         2100        299.5  5.702114"
      ]
     },
     "execution_count": 30,
     "metadata": {},
     "output_type": "execute_result"
    }
   ],
   "source": [
    "df['lnrate']=np.log(df['rate (bopd)'])\n",
    "df"
   ]
  },
  {
   "cell_type": "markdown",
   "metadata": {},
   "source": [
    "6. Perform linear regression on the transformed linear data and provide the slope, intercept, coefficient of regression, P-value and standard error"
   ]
  },
  {
   "cell_type": "code",
   "execution_count": 34,
   "metadata": {},
   "outputs": [
    {
     "name": "stdout",
     "output_type": "stream",
     "text": [
      " slope = -0.7755652173913044 \n",
      " intercept = 1651.8798418972333 \n",
      " r_value = -0.9488313533076197 \n",
      " p_value = 1.7965082300457307e-11 \n",
      " std_err = 0.0577169526513165 \n"
     ]
    },
    {
     "data": {
      "text/plain": [
       "array([1651.8798419 , 1574.32332016, 1496.76679842, 1419.21027668,\n",
       "       1341.65375494, 1264.0972332 , 1186.54071146, 1108.98418972,\n",
       "       1031.42766798,  953.87114625,  876.31462451,  798.75810277,\n",
       "        721.20158103,  643.64505929,  566.08853755,  488.53201581,\n",
       "        410.97549407,  333.41897233,  255.86245059,  178.30592885,\n",
       "        100.74940711,   23.19288538])"
      ]
     },
     "execution_count": 34,
     "metadata": {},
     "output_type": "execute_result"
    }
   ],
   "source": [
    "[slope, intercept, r_value, p_value, std_err]=ss.linregress(x,y)\n",
    "print(f\" slope = {slope} \\n intercept = {intercept} \\n r_value = {r_value} \\n p_value = {p_value} \\n std_err = {std_err} \")\n",
    "\n",
    "y_model = slope*np.array(x) + intercept\n",
    "\n",
    "y_model"
   ]
  },
  {
   "cell_type": "markdown",
   "metadata": {},
   "source": [
    "7. Plot both your fitted straight-line model as well as the transformed data on the same graph."
   ]
  },
  {
   "cell_type": "code",
   "execution_count": 36,
   "metadata": {},
   "outputs": [
    {
     "data": {
      "image/png": "[encoded data removed]",
      "text/plain": [
       "<Figure size 432x288 with 1 Axes>"
      ]
     },
     "metadata": {
      "needs_background": "light"
     },
     "output_type": "display_data"
    }
   ],
   "source": [
    "plt.scatter(x,y)\n",
    "plt.plot(x,y_model)\n",
    "if intercept > 0:\n",
    "    sign = '+'\n",
    "else:\n",
    "    sign = '-'\n",
    "txt = 'y = '+str(round(slope,4))+'*x '+sign+' '+str(abs(round(intercept,4)))  \n",
    "#creates string that describes the equation of the regressed line\n",
    "plt.legend([txt,'Data'])\n",
    "plt.show()"
   ]
  }
 ],
 "metadata": {
  "kernelspec": {
   "display_name": "Python 3",
   "language": "python",
   "name": "python3"
  },
  "language_info": {
   "codemirror_mode": {
    "name": "ipython",
    "version": 3
   },
   "file_extension": ".py",
   "mimetype": "text/x-python",
   "name": "python",
   "nbconvert_exporter": "python",
   "pygments_lexer": "ipython3",
   "version": "3.7.3"
  }
 },
 "nbformat": 4,
 "nbformat_minor": 2
}
